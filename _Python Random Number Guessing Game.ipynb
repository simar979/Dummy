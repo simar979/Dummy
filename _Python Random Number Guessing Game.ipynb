{
 "cells": [
  {
   "cell_type": "code",
   "execution_count": 5,
   "id": "7ef9c197-46ba-4bbd-903d-a4bea9dab63e",
   "metadata": {},
   "outputs": [
    {
     "name": "stdin",
     "output_type": "stream",
     "text": [
      "Enter your guess: 45\n"
     ]
    },
    {
     "name": "stdout",
     "output_type": "stream",
     "text": [
      "You guessed too high!Try again\n"
     ]
    },
    {
     "name": "stdin",
     "output_type": "stream",
     "text": [
      "Enter your guess: 56\n"
     ]
    },
    {
     "name": "stdout",
     "output_type": "stream",
     "text": [
      "You guessed too high!Try again\n"
     ]
    },
    {
     "name": "stdin",
     "output_type": "stream",
     "text": [
      "Enter your guess: 76\n"
     ]
    },
    {
     "name": "stdout",
     "output_type": "stream",
     "text": [
      "You guessed too high!Try again\n"
     ]
    },
    {
     "name": "stdin",
     "output_type": "stream",
     "text": [
      "Enter your guess: 87\n"
     ]
    },
    {
     "name": "stdout",
     "output_type": "stream",
     "text": [
      "You guessed too high!Try again\n"
     ]
    },
    {
     "name": "stdin",
     "output_type": "stream",
     "text": [
      "Enter your guess: 87\n"
     ]
    },
    {
     "name": "stdout",
     "output_type": "stream",
     "text": [
      "You guessed too high!Try again\n",
      "You lost!\n",
      "The answer was:39\n"
     ]
    },
    {
     "name": "stdin",
     "output_type": "stream",
     "text": [
      "Do you want to play again? (Yes/No): no\n"
     ]
    },
    {
     "name": "stdout",
     "output_type": "stream",
     "text": [
      "Thanks for playing!\n"
     ]
    }
   ],
   "source": [
    " import random\n",
    "while True:\n",
    "#use while true to create infinite loops in programming,which keep running until a specific condition is met to exit the loop.\n",
    "# continously running\n",
    "# loop to allow replaying the game\n",
    "    a=[]\n",
    "    for i in range(0, 100):\n",
    "        a.append(i)\n",
    "    b=random.choice(a)\n",
    "    for turns in range(5):\n",
    "        x=int(input(\"Enter your guess:\"))\n",
    "        if b==x:\n",
    "            print(\"You have guessed the right number\")\n",
    "            break\n",
    "        elif x<b-5:\n",
    "            print(\"You guessed too low!Try again\")\n",
    "        elif x>b+5:\n",
    "            print(\"You guessed too high!Try again\")\n",
    "        else:\n",
    "            print(\"Incorrect guess!Try again\")\n",
    "    else:\n",
    "        print(\"You lost!\")\n",
    "    print(\"The answer was:\"+str(b))\n",
    "# ask if the user wants to play again\n",
    "    play_again = input(\"Do you want to play again? (Yes/No):\").lower() \n",
    " #use lower to convert all characters in a string lower case\n",
    "    if play_again != 'yes':\n",
    "#use comparison operator means \"not equal to\",yes\n",
    "#if yes the condition wiil be false ,the program will not exit\n",
    "#if no the condition will be true,the program print thanks for playing message\n",
    "        print(\"Thanks for playing!\")\n",
    "        break"
   ]
  },
  {
   "cell_type": "code",
   "execution_count": null,
   "id": "b6919bb3-e175-4f41-bf6d-d221fa92e085",
   "metadata": {},
   "outputs": [],
   "source": []
  }
 ],
 "metadata": {
  "kernelspec": {
   "display_name": "Python 3 (ipykernel)",
   "language": "python",
   "name": "python3"
  },
  "language_info": {
   "codemirror_mode": {
    "name": "ipython",
    "version": 3
   },
   "file_extension": ".py",
   "mimetype": "text/x-python",
   "name": "python",
   "nbconvert_exporter": "python",
   "pygments_lexer": "ipython3",
   "version": "3.12.4"
  }
 },
 "nbformat": 4,
 "nbformat_minor": 5
}
